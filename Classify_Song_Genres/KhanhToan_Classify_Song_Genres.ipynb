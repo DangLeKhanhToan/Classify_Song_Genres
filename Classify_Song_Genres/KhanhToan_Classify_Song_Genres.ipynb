{
 "cells": [
  {
   "cell_type": "markdown",
   "id": "cd7e5023-569a-4d44-81ca-73b1ad0027bd",
   "metadata": {},
   "source": [
    "## PREPARING DATASETS"
   ]
  },
  {
   "cell_type": "code",
   "execution_count": 4,
   "id": "f3d2f0a1-40b2-4bed-a476-c9ed80d04348",
   "metadata": {},
   "outputs": [
    {
     "name": "stdout",
     "output_type": "stream",
     "text": [
      "      track_id  acousticness  danceability    energy  instrumentalness  \\\n",
      "0            2      0.416675      0.675894  0.634476      1.062807e-02   \n",
      "1            3      0.374408      0.528643  0.817461      1.851103e-03   \n",
      "2            5      0.043567      0.745566  0.701470      6.967990e-04   \n",
      "3          134      0.452217      0.513238  0.560410      1.944269e-02   \n",
      "4          153      0.988306      0.255661  0.979774      9.730057e-01   \n",
      "...        ...           ...           ...       ...               ...   \n",
      "4797    124718      0.412194      0.686825  0.849309      6.000000e-10   \n",
      "4798    124719      0.054973      0.617535  0.728567      7.215700e-06   \n",
      "4799    124720      0.010478      0.652483  0.657498      7.098000e-07   \n",
      "4800    124721      0.067906      0.432421  0.764508      1.625500e-06   \n",
      "4801    124722      0.153518      0.638660  0.762567      5.000000e-10   \n",
      "\n",
      "      liveness  speechiness    tempo   valence genre_top  \n",
      "0     0.177647     0.159310  165.922  0.576661   Hip-Hop  \n",
      "1     0.105880     0.461818  126.957  0.269240   Hip-Hop  \n",
      "2     0.373143     0.124595  100.260  0.621661   Hip-Hop  \n",
      "3     0.096567     0.525519  114.290  0.894072   Hip-Hop  \n",
      "4     0.121342     0.051740   90.241  0.034018      Rock  \n",
      "...        ...          ...      ...       ...       ...  \n",
      "4797  0.867543     0.367315   96.104  0.692414   Hip-Hop  \n",
      "4798  0.131438     0.243130   96.262  0.399720   Hip-Hop  \n",
      "4799  0.701523     0.229174   94.885  0.432240   Hip-Hop  \n",
      "4800  0.104412     0.310553  171.329  0.580087   Hip-Hop  \n",
      "4801  0.264847     0.303372   77.842  0.656612   Hip-Hop  \n",
      "\n",
      "[4802 rows x 10 columns]\n",
      "<class 'pandas.core.frame.DataFrame'>\n",
      "RangeIndex: 4802 entries, 0 to 4801\n",
      "Data columns (total 10 columns):\n",
      " #   Column            Non-Null Count  Dtype  \n",
      "---  ------            --------------  -----  \n",
      " 0   track_id          4802 non-null   int64  \n",
      " 1   acousticness      4802 non-null   float64\n",
      " 2   danceability      4802 non-null   float64\n",
      " 3   energy            4802 non-null   float64\n",
      " 4   instrumentalness  4802 non-null   float64\n",
      " 5   liveness          4802 non-null   float64\n",
      " 6   speechiness       4802 non-null   float64\n",
      " 7   tempo             4802 non-null   float64\n",
      " 8   valence           4802 non-null   float64\n",
      " 9   genre_top         4802 non-null   object \n",
      "dtypes: float64(8), int64(1), object(1)\n",
      "memory usage: 375.3+ KB\n"
     ]
    }
   ],
   "source": [
    "import pandas as pd\n",
    "# Read in track metadata with genre labels\n",
    "tracks = pd.read_csv('datasets/fma-rock-vs-hiphop.csv')\n",
    "\n",
    "# Read in track metrics with the features\n",
    "echonest_metrics = pd.read_json('datasets/echonest-metrics.json')\n",
    "\n",
    "# Merge relevant column of tracks and echonest metrics\n",
    "\n",
    "echo_tracks = echonest_metrics.merge(tracks[['track_id', 'genre_top']], on='track_id')\n",
    "\n",
    "print(echo_tracks)\n",
    "\n",
    "echo_tracks.info()\n"
   ]
  },
  {
   "cell_type": "markdown",
   "id": "6764c42c-3c1e-478d-81ed-7bb6b2094fc5",
   "metadata": {},
   "source": [
    "## Normalizing the feature data"
   ]
  },
  {
   "cell_type": "code",
   "execution_count": 6,
   "id": "ab9c211b-deae-44ac-8149-bc65dd77c154",
   "metadata": {},
   "outputs": [],
   "source": [
    "# Define our features \n",
    "features = echo_tracks.drop(['genre_top', 'track_id'], axis=1)\n",
    "\n",
    "# Define our labels\n",
    "labels = echo_tracks['genre_top']\n",
    "\n",
    "# Import the StandardScaler\n",
    "from sklearn.preprocessing import StandardScaler\n",
    "\n",
    "# Scale the features and set the values to a new variable\n",
    "scaler = StandardScaler()\n",
    "scaled_train_features = scaler.fit_transform(features)"
   ]
  },
  {
   "cell_type": "markdown",
   "id": "aff89c37-70a5-4b1c-b3ec-12cbc1d3329f",
   "metadata": {},
   "source": [
    "## Principal Component Analysis on our scaled data"
   ]
  },
  {
   "cell_type": "markdown",
   "id": "b0b084f2-f0c7-4a5b-9344-bf8fdaa67371",
   "metadata": {},
   "source": [
    "Here we calculate the  cumulative explained variance plot to determine how many features are required to explain (95% of the variance). Once we determine the appropriate number of components, we can perform PCA with that many components, ideally reducing the dimensionality of our data\n",
    "\n"
   ]
  },
  {
   "cell_type": "code",
   "execution_count": 10,
   "id": "a0c9cb4b-2581-4838-aa88-4ca57a737238",
   "metadata": {},
   "outputs": [
    {
     "name": "stdout",
     "output_type": "stream",
     "text": [
      "[0.24297674 0.4234199  0.55992299 0.68986388 0.80042636 0.88344881\n",
      " 0.95268664 1.        ]\n"
     ]
    },
    {
     "data": {
      "image/png": "[encoded data removed]",
      "text/plain": [
       "<Figure size 640x480 with 1 Axes>"
      ]
     },
     "metadata": {},
     "output_type": "display_data"
    }
   ],
   "source": [
    "import numpy as np\n",
    "import matplotlib.pyplot as plt\n",
    "from sklearn.decomposition import PCA\n",
    "\n",
    "# Get our explained variance ratios from PCA using all features\n",
    "pca = PCA()\n",
    "pca.fit(scaled_train_features)\n",
    "exp_variance = pca.explained_variance_ratio_\n",
    "\n",
    "# Calculate the cumulative explained variance\n",
    "cum_exp_variance = np.cumsum(exp_variance)\n",
    "print(cum_exp_variance)\n",
    "\n",
    "# Plot the cumulative explained variance and draw a dashed line at 0.95.\n",
    "fig, ax = plt.subplots()\n",
    "ax.plot(range(pca.n_components_), cum_exp_variance)\n",
    "ax.axhline(y=0.95, linestyle=':')\n",
    "n_components = 6\n",
    "\n",
    "# Perform PCA with the chosen number of components and project data onto components\n",
    "pca = PCA(n_components, random_state=10)\n",
    "pca.fit(scaled_train_features)\n",
    "pca_projection = pca.transform(scaled_train_features)"
   ]
  },
  {
   "cell_type": "markdown",
   "id": "5c19bb9b-9501-4965-b3d2-dbce7a7bf1b9",
   "metadata": {},
   "source": [
    "## Train a decision tree to classify genre"
   ]
  },
  {
   "cell_type": "code",
   "execution_count": 12,
   "id": "c7e3f4f1-a5b2-43d3-b2c8-47a0dc1487a7",
   "metadata": {},
   "outputs": [
    {
     "name": "stdout",
     "output_type": "stream",
     "text": [
      "Decision Tree: \n",
      "               precision    recall  f1-score   support\n",
      "\n",
      "     Hip-Hop       0.60      0.60      0.60       235\n",
      "        Rock       0.90      0.90      0.90       966\n",
      "\n",
      "    accuracy                           0.84      1201\n",
      "   macro avg       0.75      0.75      0.75      1201\n",
      "weighted avg       0.84      0.84      0.84      1201\n",
      "\n"
     ]
    }
   ],
   "source": [
    "from sklearn.model_selection import train_test_split\n",
    "from sklearn.tree import DecisionTreeClassifier\n",
    "\n",
    "# Split our data\n",
    "train_features, test_features, train_labels, test_labels = train_test_split(pca_projection, labels, random_state=10)\n",
    "\n",
    "# Train our decision tree\n",
    "tree = DecisionTreeClassifier(random_state=10)\n",
    "tree.fit(train_features, train_labels)\n",
    "\n",
    "# Predict the labels for the test data\n",
    "pred_labels_tree = tree.predict(test_features)\n",
    "\n",
    "# Create the classification report for models\n",
    "from sklearn.metrics import classification_report\n",
    "class_rep_tree = classification_report(test_labels, pred_labels_tree)\n",
    "print(\"Decision Tree: \\n\", class_rep_tree)"
   ]
  },
  {
   "cell_type": "markdown",
   "id": "1b88d0e8-3762-4437-bad4-3c71e2178bf1",
   "metadata": {},
   "source": [
    "looking at our classification report, we can see that rock songs are fairly well classified, but hip-hop songs are disproportionately misclassified as rock songs.\n",
    "-> Data points for Rock is far from Hip-Hop\n",
    "But the problem is this also tells us that most of our model's accuracy is driven by its ability to classify just rock songs, which is less than ideal."
   ]
  },
  {
   "cell_type": "markdown",
   "id": "1a5ade96-416d-4586-b635-2393e3c400de",
   "metadata": {},
   "source": [
    "## Idea of balancing our dataset"
   ]
  },
  {
   "cell_type": "code",
   "execution_count": 13,
   "id": "6bd56e26-07f9-4944-a4f1-3a7bcd73a464",
   "metadata": {},
   "outputs": [
    {
     "name": "stdout",
     "output_type": "stream",
     "text": [
      "Decision Tree: \n",
      "               precision    recall  f1-score   support\n",
      "\n",
      "     Hip-Hop       0.74      0.73      0.74       230\n",
      "        Rock       0.73      0.74      0.73       225\n",
      "\n",
      "    accuracy                           0.74       455\n",
      "   macro avg       0.74      0.74      0.74       455\n",
      "weighted avg       0.74      0.74      0.74       455\n",
      "\n"
     ]
    }
   ],
   "source": [
    "# Subset only the hip-hop tracks, and then only the rock tracks\n",
    "hiphop_only = echo_tracks.loc[echo_tracks[\"genre_top\"] == \"Hip-Hop\"]\n",
    "\n",
    "# sample the rocks songs to be the same number as there are hip-hop songs\n",
    "rock_only = echo_tracks.loc[echo_tracks[\"genre_top\"] == \"Rock\"].sample(len(hiphop_only), random_state=10)\n",
    "\n",
    "# concatenate (kết nối) the dataframes rock_only and hiphop_only\n",
    "rock_hop_bal = pd.concat([rock_only, hiphop_only])\n",
    "\n",
    "# The features, labels, and pca projection are created for the balanced dataframe\n",
    "features = rock_hop_bal.drop(['genre_top', 'track_id'], axis=1) \n",
    "labels = rock_hop_bal['genre_top']\n",
    "pca_projection = pca.fit_transform(scaler.fit_transform(features))\n",
    "\n",
    "# Redefine the train and test set with the pca_projection from the balanced data\n",
    "train_features, test_features, train_labels, test_labels = train_test_split(pca_projection, labels, random_state=10)\n",
    "\n",
    "# Train our decision tree on the balanced data\n",
    "tree = DecisionTreeClassifier(random_state=10)\n",
    "tree.fit(train_features, train_labels)\n",
    "pred_labels_tree = tree.predict(test_features)\n",
    "\n",
    "# Create the classification report for models\n",
    "print(\"Decision Tree: \\n\", classification_report(test_labels, pred_labels_tree))"
   ]
  },
  {
   "cell_type": "markdown",
   "id": "fc8b2db6-48e0-47e9-8abd-b90319ae5234",
   "metadata": {},
   "source": [
    "We've now balanced our dataset, but in doing so, we've removed a lot of data points that might have been crucial to training our models.\n",
    "-> Reduce models average precision.\n",
    "However it success in improve model bias. To get a good sense of how well our models are actually performing, we can apply what's called cross-validation (CV). This step allows us to compare models in a more rigorous fashion."
   ]
  },
  {
   "cell_type": "markdown",
   "id": "ad2087b7-19c9-4435-9d17-ec88cc03a904",
   "metadata": {},
   "source": [
    "## Using cross-validation to evaluate our models"
   ]
  },
  {
   "cell_type": "code",
   "execution_count": 17,
   "id": "2f7aaf84-78dc-4845-bd27-04f981791fb0",
   "metadata": {},
   "outputs": [
    {
     "name": "stdout",
     "output_type": "stream",
     "text": [
      "Decision Tree: [0.67391304 0.76086957 0.82608696 0.7826087  0.7826087  0.86666667\n",
      " 0.73333333 0.64444444 0.84444444 0.77777778]\n"
     ]
    }
   ],
   "source": [
    "from sklearn.model_selection import KFold, cross_val_score\n",
    "# Set up our K-fold cross-validation\n",
    "kf = KFold(n_splits= len(train_features))\n",
    "# Train our models using KFold cv\n",
    "tree = DecisionTreeClassifier(random_state=10)\n",
    "tree_score = cross_val_score(tree, test_features, test_labels, cv = 10)\n",
    "#Print the mean of array of scores\n",
    "print(\"Decision Tree:\", tree_score)"
   ]
  },
  {
   "cell_type": "code",
   "execution_count": null,
   "id": "16fd1b8e-2ee9-439e-87f9-d0f7f8305737",
   "metadata": {},
   "outputs": [],
   "source": []
  }
 ],
 "metadata": {
  "kernelspec": {
   "display_name": "Python 3 (ipykernel)",
   "language": "python",
   "name": "python3"
  },
  "language_info": {
   "codemirror_mode": {
    "name": "ipython",
    "version": 3
   },
   "file_extension": ".py",
   "mimetype": "text/x-python",
   "name": "python",
   "nbconvert_exporter": "python",
   "pygments_lexer": "ipython3",
   "version": "3.11.5"
  }
 },
 "nbformat": 4,
 "nbformat_minor": 5
}
